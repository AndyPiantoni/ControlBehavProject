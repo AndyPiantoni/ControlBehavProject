{
 "cells": [
  {
   "cell_type": "code",
   "execution_count": 1,
   "metadata": {},
   "outputs": [],
   "source": [
    "import cv2\n",
    "import numpy as np\n",
    "from tqdm import trange\n",
    "from flygym import Simulation, Camera\n",
    "from flygym.arena import FlatTerrain"
   ]
  },
  {
   "cell_type": "markdown",
   "metadata": {},
   "source": [
    "In this example, we will simulate a fly chasing another fly based on vision. This is similar to the [visual taxis task in week 4](https://github.com/NeLy-EPFL/cobar-exercises/blob/main/week4/1_vision.ipynb), but the ball will be replaced by a walking fly."
   ]
  },
  {
   "cell_type": "markdown",
   "metadata": {},
   "source": [
    "For multi-fly simulation, we might want to control the flies differently and have different observation/action spaces for different flies. Therefore, we will inherit from `Fly` and implement different logic in the `pre_step` method. "
   ]
  },
  {
   "cell_type": "code",
   "execution_count": 2,
   "metadata": {},
   "outputs": [],
   "source": [
    "from hybrid_turning_fly import HybridTurningFly\n",
    "from movodor_arena import MovOdorArena\n",
    "from odor_turning_fly import OdorTaxisFly\n"
   ]
  },
  {
   "cell_type": "code",
   "execution_count": 3,
   "metadata": {},
   "outputs": [],
   "source": [
    "#one odor source\n",
    "# random state seed for reproducibility\n",
    "seed = 1\n",
    "\n",
    "# Odor source: array of shape (num_odor_sources, 3) - xyz coords of odor sources\n",
    "odor_source = np.array([[1, 2, 3]])\n",
    "\n",
    "peak_odor_intensity = np.array([[1, 0]])\n",
    "\n",
    "marker_colors = [[255, 127, 14]]\n",
    "marker_colors = np.array([[*np.array(color) / 255, 1] for color in marker_colors])\n",
    "\n",
    "odor_dimensions = len(peak_odor_intensity[0])\n",
    "\n",
    "odor_gains = np.array([-500, 80])\n"
   ]
  },
  {
   "cell_type": "code",
   "execution_count": 7,
   "metadata": {},
   "outputs": [],
   "source": [
    "# random state seed for reproducibility\n",
    "seed = 1\n",
    "\n",
    "# Odor source: array of shape (num_odor_sources, 3) - xyz coords of odor sources\n",
    "odor_source = np.array([[0, 0, 10],[1, 1, 10]])\n",
    "\n",
    "# Peak intensities: array of shape (num_odor_sources, odor_dimensions)\n",
    "# For each odor source, if the intensity is (x, 0) then the odor is in the 1st dimension\n",
    "# (in this case attractive). If it's (0, x) then it's in the 2nd dimension (in this case\n",
    "# aversive)\n",
    "peak_odor_intensity = np.array([[1, 0],[0, 1]])\n",
    "\n",
    "# Marker colors: array of shape (num_odor_sources, 4) - RGBA values for each marker,\n",
    "# normalized to [0, 1]\n",
    "marker_colors = [[255, 127, 14], [31, 119, 180]]\n",
    "marker_colors = np.array([[*np.array(color) / 255, 1] for color in marker_colors])\n",
    "\n",
    "odor_dimensions = len(peak_odor_intensity[0])\n",
    "\n",
    "# Gains for the two odors (negative = attractive, positive = aversive)\n",
    "odor_gains = np.array([-500, 80])"
   ]
  },
  {
   "cell_type": "code",
   "execution_count": 8,
   "metadata": {},
   "outputs": [],
   "source": [
    "timestep = 1e-4 # 0.1 ms\n",
    "\n",
    "# fly0 = HybridTurningFly(\n",
    "#     name=\"0\",\n",
    "#     timestep=timestep,\n",
    "#     enable_adhesion=True,\n",
    "#     spawn_pos=(0, 0, 0),\n",
    "# )\n",
    "\n",
    "fly0 = OdorTaxisFly(\n",
    "    name=\"0\",\n",
    "    odor_threshold = 0.5,\n",
    "    odor_dimensions=odor_dimensions,\n",
    "    odor_gains=odor_gains,\n",
    "    timestep=timestep,\n",
    "    enable_adhesion=True,\n",
    "    enable_olfaction=True,\n",
    "    spawn_pos=(0, 0, 0),\n",
    ")\n",
    "\n",
    "\n",
    "fly1 = HybridTurningFly(\n",
    "    name=\"1\",\n",
    "    timestep=timestep,\n",
    "    enable_adhesion=True,\n",
    "    spawn_pos=(6, 0, 0.5),\n",
    ")\n",
    "\n",
    "\n",
    "arena = MovOdorArena(\n",
    "    size=(300, 300),\n",
    "    friction=(1, 0.005, 0.0001),\n",
    "    num_sensors=4,\n",
    "    move_speed=0,\n",
    "    move_direction=\"right\",\n",
    "    odor_source=odor_source,\n",
    "    peak_intensity=peak_odor_intensity,\n",
    "    diffuse_func=lambda x: x**-2,\n",
    "    marker_colors=marker_colors,\n",
    "    marker_size=0.3,\n",
    ")\n",
    "\n",
    "#arena = FlatTerrain() # This is the default arena\n",
    "\n",
    "# THIS IS THE CAMERA THAT WILL BE USED FOR FOLLOWING THE CENTER OF MASS OF THE FLY\n",
    "mov_birdeye_cam = arena.root_element.worldbody.add(\n",
    "    \"camera\",\n",
    "    name=\"mov_birdeye_cam\",\n",
    "    mode=\"fixed\",\n",
    "    pos=(15, 0, 40), # (15, 0, 40) the 40 is the camera height which is constant\n",
    "    euler=(0, 0, 0),\n",
    "    fovy=45,\n",
    ")\n",
    "#-------------------------------------------------------------------------------\n",
    "\n",
    "cam = Camera(\n",
    "    fly=fly0,\n",
    "    camera_id=\"Animat/camera_left\", # This is not used as argument\n",
    "    play_speed=0.5,\n",
    "    window_size=(800, 608),\n",
    ")\n",
    "\n",
    "\n",
    "sim = Simulation(\n",
    "    flies=[fly0, fly1],\n",
    "    cameras=[cam],\n",
    "    arena=arena,\n",
    "    timestep=timestep,\n",
    ")"
   ]
  },
  {
   "cell_type": "code",
   "execution_count": 6,
   "metadata": {},
   "outputs": [
    {
     "data": {
      "text/plain": [
       "array([[1, 2, 3]])"
      ]
     },
     "execution_count": 6,
     "metadata": {},
     "output_type": "execute_result"
    }
   ],
   "source": [
    "arena.odor_source"
   ]
  },
  {
   "cell_type": "code",
   "execution_count": 7,
   "metadata": {},
   "outputs": [
    {
     "data": {
      "text/plain": [
       "array([[[[1, 2, 3],\n",
       "         [1, 2, 3],\n",
       "         [1, 2, 3],\n",
       "         [1, 2, 3]],\n",
       "\n",
       "        [[1, 2, 3],\n",
       "         [1, 2, 3],\n",
       "         [1, 2, 3],\n",
       "         [1, 2, 3]]]])"
      ]
     },
     "execution_count": 7,
     "metadata": {},
     "output_type": "execute_result"
    }
   ],
   "source": [
    "arena._odor_source_repeated"
   ]
  },
  {
   "cell_type": "code",
   "execution_count": 11,
   "metadata": {},
   "outputs": [
    {
     "name": "stderr",
     "output_type": "stream",
     "text": [
      "100%|██████████| 5000/5000 [03:54<00:00, 21.37it/s]\n"
     ]
    }
   ],
   "source": [
    "sim.reset(seed=0)\n",
    "for i in fly1.model.find_all(\"geom\"):\n",
    "    sim.physics.named.model.geom_rgba[f\"1/{i.name}\"] = (0, 0, 0, 1)\n",
    "\n",
    "run_time = 0.5 # in seconds\n",
    "t = np.arange(0, run_time, timestep)\n",
    "\n",
    "fly0_actions = (\n",
    "    np.column_stack(\n",
    "        [\n",
    "            np.abs(np.cos(t * np.pi / 2)),\n",
    "            np.abs(np.sin(t * np.pi / 2)),\n",
    "        ]\n",
    "    )\n",
    "    * 1.2\n",
    ")\n",
    "fly1_actions = (\n",
    "    np.column_stack(\n",
    "        [\n",
    "            np.abs(np.cos(t * np.pi / 2)),\n",
    "            np.abs(np.sin(t * np.pi / 2)),\n",
    "        ]\n",
    "    )\n",
    "    * 1.2\n",
    ")\n",
    "\n",
    "second_cam_frames = []\n",
    "x = None\n",
    "y = None\n",
    "alpha = 1e-1\n",
    "\n",
    "for i in trange(len(t)):\n",
    "    #print something every 1000 steps\n",
    "    # if i % 1000 == 0:\n",
    "    #     print(obs[\"0\"][\"fly\"])\n",
    "\n",
    "    obs, _, _, _, info = sim.step(\n",
    "        {\n",
    "            \"0\": fly0_actions[i],\n",
    "            \"1\": fly1_actions[i],\n",
    "        }\n",
    "    )\n",
    "\n",
    "    #To bind the odor source position to a fly position\n",
    "    for j in range(len(arena.odor_source)):\n",
    "        arena.odor_source[j] = obs[\"{j}\"][\"fly\"][0]\n",
    "        arena.odor_source[j][2] = 4    #add an offset to the odor source position on z axis\n",
    "\n",
    "\n",
    "    # arena.odor_source[0] = obs[\"0\"][\"fly\"][0]\n",
    "    # arena.odor_source[0][2] = 4    #add an offset to the odor source position on z axis\n",
    "\n",
    "    # arena.odor_source[1] = obs[\"1\"][\"fly\"][0]\n",
    "    # arena.odor_source[1][2] = 4    #add an offset to the odor source position on z axis\n",
    "\n",
    "\n",
    "\n",
    "\n",
    "\n",
    "\n",
    "\n",
    "\n",
    "\n",
    "\n",
    "\n",
    "\n",
    "\n",
    "    #THIS PART IS TO MAKE THE SECOND CAMERA FOLLOW THE CENTER OF MASS OF THE FLY ------------------------------------------------\n",
    "    render_res = sim.render()[0]\n",
    "\n",
    "    if render_res is not None:\n",
    "        second_cam = sim.physics.bind(mov_birdeye_cam)\n",
    "\n",
    "        x_new = obs[\"0\"][\"fly\"][0][0]\n",
    "        y_new = obs[\"0\"][\"fly\"][0][1]\n",
    "\n",
    "        if x is None:\n",
    "            x = x_new\n",
    "        \n",
    "        if y is None:\n",
    "            y = y_new\n",
    "\n",
    "        x = (1 - alpha) * x + alpha * x_new\n",
    "        y = (1 - alpha) * y + alpha * y_new\n",
    "\n",
    "        second_cam.pos[0] = x\n",
    "        second_cam.pos[1] = y\n",
    "\n",
    "        second_img = sim.physics.render(\n",
    "            width=700, height=560, camera_id=\"mov_birdeye_cam\"\n",
    "        )\n",
    "        second_img = cv2.putText(\n",
    "            np.ascontiguousarray(second_img),\n",
    "            f\"{sim.cameras[0].play_speed}x\",\n",
    "            org=(20, 30),\n",
    "            fontFace=cv2.FONT_HERSHEY_DUPLEX,\n",
    "            fontScale=0.8,\n",
    "            color=(0, 0, 0),\n",
    "            lineType=cv2.LINE_AA,\n",
    "            thickness=1,\n",
    "        )\n",
    "        second_cam_frames.append(second_img)\n",
    "        #------------------------------------------------------------------------------------------------\n",
    "\n"
   ]
  },
  {
   "cell_type": "code",
   "execution_count": 12,
   "metadata": {},
   "outputs": [
    {
     "name": "stderr",
     "output_type": "stream",
     "text": [
      "WARNING:imageio_ffmpeg:IMAGEIO FFMPEG_WRITER WARNING: input image is not divisible by macro_block_size=16, resizing from (700, 560) to (704, 560) to ensure video compatibility with most codecs and players. To prevent resizing, make your input image divisible by the macro_block_size or set the macro_block_size to 1 (risking incompatibility).\n"
     ]
    }
   ],
   "source": [
    "#birdeye_cam_frames = cam._frames\n",
    "cam._frames = second_cam_frames\n",
    "cam.save_video(\"test3.mp4\")"
   ]
  }
 ],
 "metadata": {
  "kernelspec": {
   "display_name": "flygym",
   "language": "python",
   "name": "python3"
  },
  "language_info": {
   "codemirror_mode": {
    "name": "ipython",
    "version": 3
   },
   "file_extension": ".py",
   "mimetype": "text/x-python",
   "name": "python",
   "nbconvert_exporter": "python",
   "pygments_lexer": "ipython3",
   "version": "3.11.9"
  }
 },
 "nbformat": 4,
 "nbformat_minor": 2
}
