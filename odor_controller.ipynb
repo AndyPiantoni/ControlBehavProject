{
 "cells": [
  {
   "cell_type": "markdown",
   "metadata": {},
   "source": [
    "# Olfaction Controller\n",
    "\n",
    "I am using here a big part of the code seen in week3 of the exercises. First create an odor arena with one attractive odor source only.\n",
    "## Odor source"
   ]
  },
  {
   "cell_type": "code",
   "execution_count": 1,
   "metadata": {},
   "outputs": [],
   "source": [
    "import numpy as np\n",
    "\n",
    "# random state seed for reproducibility\n",
    "seed = 1\n",
    "\n",
    "# Odor source: array of shape (num_odor_sources, 3) - xyz coords of odor sources\n",
    "odor_source = np.array([[24, 0, 1.5]])\n",
    "\n",
    "# Peak intensities: array of shape (num_odor_sources, odor_dimensions)\n",
    "# For each odor source, if the intensity is (x, 0) then the odor is in the 1st dimension\n",
    "# (in this case attractive). If it's (0, x) then it's in the 2nd dimension (in this case\n",
    "# aversive)\n",
    "peak_odor_intensity = np.array([[1, 0]])\n",
    "\n",
    "# Marker colors: array of shape (num_odor_sources, 4) - RGBA values for each marker,\n",
    "# normalized to [0, 1]\n",
    "marker_colors = [[255, 127, 14]]\n",
    "marker_colors = np.array([[*np.array(color) / 255, 1] for color in marker_colors])\n",
    "\n",
    "odor_dimensions = len(peak_odor_intensity[0])"
   ]
  },
  {
   "cell_type": "markdown",
   "metadata": {},
   "source": [
    "## OdorArena"
   ]
  },
  {
   "cell_type": "code",
   "execution_count": 3,
   "metadata": {},
   "outputs": [],
   "source": [
    "from flygym.arena import OdorArena\n",
    "\n",
    "arena = OdorArena(\n",
    "    odor_source=odor_source,\n",
    "    peak_odor_intensity=peak_odor_intensity,\n",
    "    diffuse_func=lambda x: x**-2,\n",
    "    marker_colors=marker_colors,\n",
    "    marker_size=0.3,\n",
    ")"
   ]
  },
  {
   "cell_type": "markdown",
   "metadata": {},
   "source": [
    "### Place the fly\n",
    "We use `HybridTurningNMF`Controller for turning of the fly."
   ]
  },
  {
   "cell_type": "code",
   "execution_count": 12,
   "metadata": {},
   "outputs": [
    {
     "data": {
      "image/png": "[encoded data removed]",
      "text/plain": [
       "<Figure size 500x400 with 1 Axes>"
      ]
     },
     "metadata": {},
     "output_type": "display_data"
    }
   ],
   "source": [
    "from pathlib import Path\n",
    "import matplotlib.pyplot as plt\n",
    "from flygym import Parameters, Camera, SingleFlySimulation, Fly\n",
    "from flygym.examples.turning_controller import HybridTurningNMF\n",
    "from flygym.simulation import Simulation\n",
    "from hybrid_turning_fly import HybridTurningFly\n",
    "\n",
    "Path(\"./outputs\").mkdir(exist_ok=True)\n",
    "\n",
    "\n",
    "contact_sensor_placements = [\n",
    "    f\"{leg}{segment}\"\n",
    "    for leg in [\"LF\", \"LM\", \"LH\", \"RF\", \"RM\", \"RH\"]\n",
    "    for segment in [\"Tibia\", \"Tarsus1\", \"Tarsus2\", \"Tarsus3\", \"Tarsus4\", \"Tarsus5\"]\n",
    "]\n",
    "timestep = 1e-4\n",
    "\n",
    "sim_params = Parameters(\n",
    "    timestep=1e-4,\n",
    "    render_mode=\"saved\",\n",
    "    render_playspeed=0.5,\n",
    "    render_window_size=(800, 608),\n",
    "    enable_olfaction=True,\n",
    "    enable_adhesion=True,\n",
    "    draw_adhesion=False,\n",
    "    render_camera=\"birdeye_cam\",\n",
    ")\n",
    "fly_male = HybridTurningFly(\n",
    "    name=\"male\",\n",
    "    timestep=timestep,\n",
    "    enable_adhesion=True,\n",
    "    enable_olfaction=True,\n",
    "    spawn_pos=(6, 0, 0.5),\n",
    ")\n",
    "\n",
    "cam = Camera(\n",
    "    fly=fly_male,\n",
    "    camera_id=\"birdeye_cam\",\n",
    ")\n",
    "\n",
    "sim = SingleFlySimulation(\n",
    "    fly=fly_male,\n",
    "    cameras=[cam],\n",
    "    arena=arena,\n",
    "    timestep=timestep,\n",
    ")\n",
    "   \n",
    "# sim = HybridTurningNMF(\n",
    "#     fly=fly_male,\n",
    "#     sim_params=sim_params,\n",
    "#     arena=arena,\n",
    "#     spawn_pos=(0, 0, 0.2),\n",
    "#     contact_sensor_placements=contact_sensor_placements,\n",
    "# )\n",
    "\n",
    "for i in range(1):\n",
    "    sim.step(np.zeros(2))\n",
    "    sim.render()\n",
    "fig, ax = plt.subplots(1, 1, figsize=(5, 4), tight_layout=True)\n",
    "ax.imshow(cam._frames[-1])\n",
    "ax.axis(\"off\")\n",
    "fig.savefig(\"./outputs/olfaction_env.png\")"
   ]
  },
  {
   "cell_type": "markdown",
   "metadata": {},
   "source": [
    "## Controller for odor taxis\n",
    "\n",
    "Let's design a simple hand-tuned controller for odor-guided taxis. We start by calculating the left-right asymmetry of the odor intensity $I$ for each odor $o$:\n",
    "\n",
    "$$\n",
    "\\Delta I_o = \\frac{I_\\text{left,o} - I_\\text{right,o}}{(I_\\text{left,o} + I_\\text{right,o}) / 2}\n",
    "$$\n",
    "\n",
    "Then, we multiply $\\Delta I_o$ by a gain $\\gamma_o$ for each odor dimension and take the sum $s$. Attractive and aversive odors will have different signs in their gains.\n",
    "\n",
    "$$\n",
    "s = \\sum_{o} \\gamma_o \\Delta I_o\n",
    "$$\n",
    "\n",
    "We transform $s$ nonlinearly to avoid overly drastic turns when the asymmetry is subtle and to crop it within the range [0, 1). This gives us a turning bias $b$:\n",
    "\n",
    "$$\n",
    "b = \\tanh(s^2)\n",
    "$$\n",
    "\n",
    "Then, we modulate the descending signal $\\delta$ based on $b$ and the sign of $s$:\n",
    "\n",
    "$$\n",
    "\\delta_\\text{left} = \n",
    "    \\begin{cases}\n",
    "    \\delta_\\text{max} & \\text{if } s>0\\\\\n",
    "    \\delta_\\text{max} - b(\\delta_\\text{max} - \\delta_\\text{min})  & \\text{otherwise}\n",
    "    \\end{cases}\n",
    "    \\qquad\n",
    "    \\delta_\\text{right} = \n",
    "    \\begin{cases}\n",
    "    \\delta_\\text{max} - b(\\delta_\\text{max} - \\delta_\\text{min}) & \\text{if } s>0\\\\\n",
    "    \\delta_\\text{max}  & \\text{otherwise}\n",
    "    \\end{cases}\n",
    "$$\n",
    "\n",
    "where, $\\delta_\\text{min}$, $\\delta_\\text{max}$ define the range of the descending signal. Here, we will use the following parameters:\n",
    "\n",
    "- $\\gamma_\\text{attractive} = -500$ (negative ipsilateral gain leads to positive taxis)\n",
    "- $\\gamma_\\text{aversive} = 80$ (positive ipsilateral gain leads to negative taxis)\n",
    "- $\\delta_\\text{min} = 0.2$\n",
    "- $\\delta_\\text{max} = 1$\n",
    "\n",
    "Finally we set the descending signal $\\delta$ to zero if the intensity of the attractive odor is above a threshold (i.e. the fly reached a certain distance to the odor source).\n",
    "\n",
    "$$\n",
    "\\delta_\\text{left} = \n",
    "    \\begin{cases}\n",
    "    0 & \\text{if } I_{attractive}>\\text{threshold}\\\\\n",
    "    \\delta_\\text{left} & \\text{otherwise}\n",
    "    \\end{cases}\n",
    "    \\qquad\n",
    "    \\delta_\\text{right} = \n",
    "    \\begin{cases}\n",
    "    0 & \\text{if } I_{attractive}>\\text{threshold}\\\\\n",
    "    \\delta_\\text{right}  & \\text{otherwise}\n",
    "    \\end{cases}\n",
    "$$\n",
    "\n",
    "As before, we will recalculate the steering signal every 0.05 seconds. Let's implement this in Python:"
   ]
  },
  {
   "cell_type": "code",
   "execution_count": 21,
   "metadata": {},
   "outputs": [
    {
     "name": "stderr",
     "output_type": "stream",
     "text": [
      " 15%|█▌        | 15/100 [35:48<3:02:20, 128.72s/it]"
     ]
    }
   ],
   "source": [
    "from tqdm import trange\n",
    "\n",
    "# Gains for the two odors (negative = attractive, positive = aversive)\n",
    "gains = np.array([-500, 80])\n",
    "decision_interval = 0.05\n",
    "run_time = 5\n",
    "num_decision_steps = int(run_time / decision_interval)\n",
    "physics_steps_per_decision_step = int(decision_interval / sim_params.timestep)\n",
    "\n",
    "obs_hist = []\n",
    "odor_history = []\n",
    "obs, _ = sim.reset()\n",
    "reached_odor_source = False\n",
    "for i in trange(num_decision_steps):\n",
    "    I_reshaped = obs[\"odor_intensity\"].reshape((odor_dimensions, 2, 2))\n",
    "    I = np.average(I_reshaped, axis=1, weights=[120, 1200])\n",
    "\n",
    "    # Calculate the left-right asymmetry in the odor intensities\n",
    "    I_l, I_r = I[:, 0], I[:, 1]\n",
    "    denom = (I_l + I_r) / 2\n",
    "    denom[denom == 0] = 1  # Avoid division by zero\n",
    "    delta_I = (I_l - I_r) / denom\n",
    "\n",
    "    # Calculate the weighted sum of the asymmetries for each odor\n",
    "    s = np.dot(gains, delta_I)\n",
    "\n",
    "    # Calculate the turning bias\n",
    "    b = np.tanh(s**2)\n",
    "\n",
    "    control_signal = np.ones((2,))\n",
    "    side_to_modulate = int(s > 0)\n",
    "    modulation_amount = b * 0.8\n",
    "    control_signal[side_to_modulate] -= modulation_amount\n",
    "\n",
    "    # Set control signal to zero if attractive odor intensity is above a threshold\n",
    "    if(I_l[0] > 0.5 or I_r[0] > 0.5):  # Extracts the attractive odor intensity\n",
    "        control_signal = np.zeros((2,))\n",
    "        if not reached_odor_source:\n",
    "            reached_odor_source = True\n",
    "            print(\"Reached odor source\")\n",
    "        \n",
    "\n",
    "    for j in range(physics_steps_per_decision_step):\n",
    "        obs, _, _, _, _ = sim.step(control_signal)\n",
    "        rendered_img = sim.render()\n",
    "        if rendered_img is not None:\n",
    "            # record odor intensity too for video\n",
    "            odor_history.append(obs[\"odor_intensity\"])\n",
    "        obs_hist.append(obs)\n",
    "\n",
    "    # # Stop when the fly is within 2mm of the attractive odor source\n",
    "    # if np.linalg.norm(obs[\"fly\"][0, :2] - odor_source[0, :2]) < 2:\n",
    "    #     break\n"
   ]
  },
  {
   "cell_type": "code",
   "execution_count": 19,
   "metadata": {},
   "outputs": [
    {
     "data": {
      "image/png": "[encoded data removed]",
      "text/plain": [
       "<Figure size 500x400 with 1 Axes>"
      ]
     },
     "metadata": {},
     "output_type": "display_data"
    }
   ],
   "source": [
    "fly_pos_hist = np.array([obs[\"fly\"][0, :2] for obs in obs_hist])\n",
    "fig, ax = plt.subplots(1, 1, figsize=(5, 4), tight_layout=True)\n",
    "ax.scatter(\n",
    "    [odor_source[0, 0]],\n",
    "    [odor_source[0, 1]],\n",
    "    marker=\"o\",\n",
    "    color=\"tab:orange\",\n",
    "    s=50,\n",
    "    label=\"Attractive\",\n",
    ")\n",
    "# ax.scatter([odor_source[2, 0]], [odor_source[2, 1]], marker=\"o\", color=\"tab:blue\", s=50)\n",
    "ax.plot(fly_pos_hist[:, 0], fly_pos_hist[:, 1], color=\"k\", label=\"Fly trajectory\")\n",
    "ax.set_aspect(\"equal\")\n",
    "ax.set_xlim(-1, 25)\n",
    "ax.set_ylim(-5, 5)\n",
    "ax.set_xlabel(\"x (mm)\")\n",
    "ax.set_ylabel(\"y (mm)\")\n",
    "ax.legend(ncols=3, loc=\"lower center\", bbox_to_anchor=(0.5, -0.6))\n",
    "fig.savefig(\"./outputs/odor_taxis_trajectory.png\")"
   ]
  },
  {
   "cell_type": "code",
   "execution_count": 32,
   "metadata": {},
   "outputs": [
    {
     "name": "stdout",
     "output_type": "stream",
     "text": [
      "[[0.3008794  0.28858215 0.6432795  0.627067  ]\n",
      " [0.         0.         0.         0.        ]]\n",
      "Odor intensity reshaped:\n",
      " [[[0.3008794  0.28858215]\n",
      "  [0.6432795  0.627067  ]]\n",
      "\n",
      " [[0.         0.        ]\n",
      "  [0.         0.        ]]]\n",
      "I: [[0.61200942 0.59596862]\n",
      " [0.         0.        ]]\n",
      "\n",
      "I reshape: [[[0.30089003 0.28844577]\n",
      "  [0.64312136 0.6267209 ]]\n",
      "\n",
      " [[0.         0.        ]\n",
      "  [0.         0.        ]]]\n",
      "\n",
      "I_l: [0.61200942 0.        ], I_r: [0.59596862 0.        ]\n",
      "(2, 2, 2)\n",
      "(2, 2)\n"
     ]
    }
   ],
   "source": [
    "print(obs[\"odor_intensity\"])\n",
    "print(f\"Odor intensity reshaped:\\n {obs['odor_intensity'].reshape((odor_dimensions, 2, 2))}\")\n",
    "print(f\"I: {I}\")\n",
    "print(\"\")\n",
    "print(f\"I reshape: {I_reshaped}\")\n",
    "print(\"\")\n",
    "print(f\"I_l: {I_l}, I_r: {I_r}\")\n",
    "print(I_reshaped.shape)\n",
    "print(I.shape)"
   ]
  },
  {
   "cell_type": "code",
   "execution_count": 20,
   "metadata": {},
   "outputs": [
    {
     "data": {
      "image/png": "[encoded data removed]",
      "text/plain": [
       "<Figure size 500x400 with 1 Axes>"
      ]
     },
     "metadata": {},
     "output_type": "display_data"
    }
   ],
   "source": [
    "#plot histroy of observations odors intensities\n",
    "odor_history = [np.average(obs_hist[i][\"odor_intensity\"].reshape((odor_dimensions, 2, 2)), axis=1) for i in range(len(obs_hist))]\n",
    "odor_l_history = [odor_history[i][:, 0] for i in range(len(odor_history))]\n",
    "odor_r_history = [odor_history[i][:, 1] for i in range(len(odor_history))]\n",
    "\n",
    "plot_odor_l = np.array(odor_l_history)\n",
    "plot_odor_r = np.array(odor_r_history)\n",
    "fig, ax = plt.subplots(1, 1, figsize=(5, 4), tight_layout=True)\n",
    "ax.plot(plot_odor_l, label=[\"Left attractive odor intensity\", \"Left aversive odor intensity\"])\n",
    "ax.plot(plot_odor_r, label=[\"Right attractive odor intensity\", \"Right aversive odor intensity\"])\n",
    "ax.set_xlabel(\"Time step\")\n",
    "ax.set_ylabel(\"Odor intensity\")\n",
    "ax.legend()\n",
    "plt.show()\n",
    "\n"
   ]
  }
 ],
 "metadata": {
  "kernelspec": {
   "display_name": "flygym",
   "language": "python",
   "name": "python3"
  },
  "language_info": {
   "codemirror_mode": {
    "name": "ipython",
    "version": 3
   },
   "file_extension": ".py",
   "mimetype": "text/x-python",
   "name": "python",
   "nbconvert_exporter": "python",
   "pygments_lexer": "ipython3",
   "version": "3.11.9"
  }
 },
 "nbformat": 4,
 "nbformat_minor": 2
}
